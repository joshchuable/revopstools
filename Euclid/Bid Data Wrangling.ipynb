{
 "cells": [
  {
   "cell_type": "code",
   "execution_count": 2,
   "metadata": {
    "collapsed": false
   },
   "outputs": [],
   "source": [
    "%matplotlib inline\n",
    "\n",
    "import matplotlib\n",
    "import numpy as np\n",
    "import csv\n",
    "import pandas as pd\n",
    "import numpy as np\n",
    "import ggplot\n",
    "import os\n",
    "import re\n",
    "import shutil"
   ]
  },
  {
   "cell_type": "code",
   "execution_count": 9,
   "metadata": {
    "collapsed": false
   },
   "outputs": [
    {
     "name": "stdout",
     "output_type": "stream",
     "text": [
      "    ﻿\"Days\"\\t\"Bid ranges (gross)\"\\t\"Bids\"\\t\"Impressions won\"\\t\"Winning bid CPM (gross)\"\\t\"Close CPM\"\\t\"Win %\"\n",
      "0    2016-02-17\\t\"3.1 — 3.2\"\\t\"79\"\\t\"70\"\\t\"3.163457...                                                       \n",
      "1    2016-02-17\\t\"7.1 — 7.2\"\\t\"1\"\\t\"1\"\\t\"7.122\"\\t\"2...                                                       \n",
      "2    2016-02-17\\t\"2.1 — 2.2\"\\t\"173\"\\t\"120\"\\t\"2.1334...                                                       \n",
      "3    2016-02-17\\t\"44.8 — 44.9\"\\t\"1\"\\t\"1\"\\t\"44.828\"\\...                                                       \n",
      "4    2016-02-17\\t\"15 — 15.1\"\\t\"2\"\\t\"2\"\\t\"15\"\\t\"2.96...                                                       \n",
      "5    2016-02-17\\t\"3.8 — 3.9\"\\t\"23\"\\t\"21\"\\t\"3.841571...                                                       \n",
      "6    2016-02-17\\t\"5.3 — 5.4\"\\t\"2\"\\t\"2\"\\t\"5.306\"\\t\"0...                                                       \n",
      "7    2016-02-17\\t\"4.4 — 4.5\"\\t\"13\"\\t\"13\"\\t\"4.428461...                                                       \n",
      "8    2016-02-17\\t\"7.6 — 7.7\"\\t\"3\"\\t\"2\"\\t\"7.6675\"\\t\"...                                                       \n",
      "9    2016-02-17\\t\"2.8 — 2.9\"\\t\"230\"\\t\"208\"\\t\"2.8573...                                                       \n",
      "10   2016-02-17\\t\"2.7 — 2.8\"\\t\"103\"\\t\"80\"\\t\"2.74272...                                                       \n",
      "11   2016-02-17\\t\"8.9 — 9\"\\t\"1\"\\t\"1\"\\t\"8.99\"\\t\"4.60...                                                       \n",
      "12   2016-02-17\\t\"1.7 — 1.8\"\\t\"994\"\\t\"792\"\\t\"1.7508...                                                       \n",
      "13   2016-02-17\\t\"6.5 — 6.6\"\\t\"3\"\\t\"3\"\\t\"6.51933333...                                                       \n",
      "14   2016-02-17\\t\"2.3 — 2.4\"\\t\"83\"\\t\"65\"\\t\"2.340153...                                                       \n",
      "15   2016-02-17\\t\"5.7 — 5.8\"\\t\"5\"\\t\"5\"\\t\"5.7176\"\\t\"...                                                       \n",
      "16   2016-02-17\\t\"5.2 — 5.3\"\\t\"18\"\\t\"17\"\\t\"5.280529...                                                       \n",
      "17   2016-02-17\\t\"6.3 — 6.4\"\\t\"7\"\\t\"6\"\\t\"6.35833333...                                                       \n",
      "18   2016-02-17\\t\"3.6 — 3.7\"\\t\"38\"\\t\"35\"\\t\"3.642428...                                                       \n",
      "19   2016-02-17\\t\"6.6 — 6.7\"\\t\"12\"\\t\"12\"\\t\"6.605583...                                                       \n",
      "20   2016-02-17\\t\"7.5 — 7.6\"\\t\"89\"\\t\"75\"\\t\"7.50132\"...                                                       \n",
      "21   2016-02-17\\t\"2.5 — 2.6\"\\t\"892\"\\t\"691\"\\t\"2.5201...                                                       \n",
      "22   2016-02-17\\t\"6.8 — 6.9\"\\t\"2\"\\t\"1\"\\t\"6.834\"\\t\"0...                                                       \n",
      "23   2016-02-17\\t\"8.5 — 8.6\"\\t\"3\"\\t\"3\"\\t\"8.56033333...                                                       \n",
      "24   2016-02-17\\t\"6.9 — 7\"\\t\"20\"\\t\"20\"\\t\"6.90995\"\\t...                                                       \n",
      "25   2016-02-17\\t\"12.5 — 12.6\"\\t\"4\"\\t\"3\"\\t\"12.5\"\\t\"...                                                       \n",
      "26   2016-02-17\\t\"1.6 — 1.7\"\\t\"430\"\\t\"330\"\\t\"1.6575...                                                       \n",
      "27   2016-02-17\\t\"50 — 50.1\"\\t\"19\"\\t\"17\"\\t\"216.9167...                                                       \n",
      "28   2016-02-17\\t\"4.9 — 5\"\\t\"10\"\\t\"9\"\\t\"4.945222222...                                                       \n",
      "29   2016-02-17\\t\"6.7 — 6.8\"\\t\"7\"\\t\"6\"\\t\"6.7485\"\\t\"...                                                       \n",
      "..                                                 ...                                                       \n",
      "899  2016-02-23\\t\"19.7 — 19.8\"\\t\"1\"\\t\"1\"\\t\"19.746\"\\...                                                       \n",
      "900  2016-02-23\\t\"6.2 — 6.3\"\\t\"6\"\\t\"6\"\\t\"6.25016666...                                                       \n",
      "901  2016-02-23\\t\"20.7 — 20.8\"\\t\"4\"\\t\"4\"\\t\"20.763\"\\...                                                       \n",
      "902  2016-02-23\\t\"10.1 — 10.2\"\\t\"7\"\\t\"2\"\\t\"10.182\"\\...                                                       \n",
      "903  2016-02-23\\t\"22 — 22.1\"\\t\"1\"\\t\"1\"\\t\"22.046\"\\t\"...                                                       \n",
      "904  2016-02-23\\t\"14.5 — 14.6\"\\t\"1\"\\t\"0\"\\t\"—\"\\t\"—\"\\...                                                       \n",
      "905  2016-02-23\\t\"22.2 — 22.3\"\\t\"1\"\\t\"1\"\\t\"22.215\"\\...                                                       \n",
      "906  2016-02-23\\t\"21.5 — 21.6\"\\t\"3\"\\t\"3\"\\t\"21.51833...                                                       \n",
      "907  2016-02-23\\t\"26.2 — 26.3\"\\t\"1\"\\t\"1\"\\t\"26.288\"\\...                                                       \n",
      "908  2016-02-23\\t\"31.9 — 32\"\\t\"5\"\\t\"4\"\\t\"31.944\"\\t\"...                                                       \n",
      "909  2016-02-23\\t\"49.7 — 49.8\"\\t\"1\"\\t\"1\"\\t\"49.726\"\\...                                                       \n",
      "910  2016-02-23\\t\"6.3 — 6.4\"\\t\"3\"\\t\"3\"\\t\"6.35533333...                                                       \n",
      "911  2016-02-23\\t\"3.8 — 3.9\"\\t\"40\"\\t\"28\"\\t\"3.821821...                                                       \n",
      "912  2016-02-23\\t\"22.5 — 22.6\"\\t\"1\"\\t\"1\"\\t\"22.51\"\\t...                                                       \n",
      "913  2016-02-23\\t\"15.3 — 15.4\"\\t\"1\"\\t\"1\"\\t\"15.314\"\\...                                                       \n",
      "914  2016-02-23\\t\"9.5 — 9.6\"\\t\"19\"\\t\"17\"\\t\"9.576882...                                                       \n",
      "915  2016-02-23\\t\"7.1 — 7.2\"\\t\"6\"\\t\"5\"\\t\"7.1624\"\\t\"...                                                       \n",
      "916  2016-02-23\\t\"2.4 — 2.5\"\\t\"477\"\\t\"320\"\\t\"2.4373...                                                       \n",
      "917  2016-02-23\\t\"1.2 — 1.3\"\\t\"937\"\\t\"663\"\\t\"1.2641...                                                       \n",
      "918  2016-02-23\\t\"14.8 — 14.9\"\\t\"1\"\\t\"1\"\\t\"14.85\"\\t...                                                       \n",
      "919  2016-02-23\\t\"3.7 — 3.8\"\\t\"128\"\\t\"108\"\\t\"3.7474...                                                       \n",
      "920  2016-02-23\\t\"4.9 — 5\"\\t\"14\"\\t\"12\"\\t\"4.94566666...                                                       \n",
      "921  2016-02-23\\t\"7.9 — 8\"\\t\"10\"\\t\"9\"\\t\"7.957666666...                                                       \n",
      "922  2016-02-23\\t\"13.4 — 13.5\"\\t\"1\"\\t\"1\"\\t\"13.494\"\\...                                                       \n",
      "923  2016-02-23\\t\"21.2 — 21.3\"\\t\"2\"\\t\"2\"\\t\"21.28\"\\t...                                                       \n",
      "924  2016-02-23\\t\"27 — 27.1\"\\t\"2\"\\t\"1\"\\t\"27.03\"\\t\"0...                                                       \n",
      "925  2016-02-23\\t\"18.4 — 18.5\"\\t\"1\"\\t\"1\"\\t\"18.493\"\\...                                                       \n",
      "926  2016-02-23\\t\"10 — 10.1\"\\t\"6\"\\t\"5\"\\t\"10.0248\"\\t...                                                       \n",
      "927  2016-02-23\\t\"3.5 — 3.6\"\\t\"243\"\\t\"146\"\\t\"3.5253...                                                       \n",
      "928  2016-02-23\\t\"2.1 — 2.2\"\\t\"193\"\\t\"149\"\\t\"2.1421...                                                       \n",
      "\n",
      "[929 rows x 1 columns]\n"
     ]
    },
    {
     "name": "stderr",
     "output_type": "stream",
     "text": [
      "b'Skipping line 5: expected 1 fields, saw 2\\nSkipping line 16: expected 1 fields, saw 2\\nSkipping line 18: expected 1 fields, saw 2\\nSkipping line 29: expected 1 fields, saw 3\\nSkipping line 33: expected 1 fields, saw 3\\nSkipping line 47: expected 1 fields, saw 2\\nSkipping line 60: expected 1 fields, saw 3\\nSkipping line 62: expected 1 fields, saw 2\\nSkipping line 80: expected 1 fields, saw 2\\nSkipping line 83: expected 1 fields, saw 3\\nSkipping line 88: expected 1 fields, saw 2\\nSkipping line 111: expected 1 fields, saw 2\\nSkipping line 127: expected 1 fields, saw 2\\nSkipping line 133: expected 1 fields, saw 3\\nSkipping line 176: expected 1 fields, saw 3\\nSkipping line 178: expected 1 fields, saw 2\\nSkipping line 191: expected 1 fields, saw 2\\nSkipping line 196: expected 1 fields, saw 2\\nSkipping line 212: expected 1 fields, saw 2\\nSkipping line 224: expected 1 fields, saw 2\\nSkipping line 226: expected 1 fields, saw 2\\nSkipping line 231: expected 1 fields, saw 3\\nSkipping line 233: expected 1 fields, saw 2\\nSkipping line 235: expected 1 fields, saw 2\\nSkipping line 251: expected 1 fields, saw 3\\nSkipping line 252: expected 1 fields, saw 3\\nSkipping line 254: expected 1 fields, saw 2\\nSkipping line 255: expected 1 fields, saw 3\\nSkipping line 262: expected 1 fields, saw 3\\nSkipping line 272: expected 1 fields, saw 3\\nSkipping line 284: expected 1 fields, saw 3\\nSkipping line 288: expected 1 fields, saw 3\\nSkipping line 291: expected 1 fields, saw 3\\nSkipping line 295: expected 1 fields, saw 3\\nSkipping line 298: expected 1 fields, saw 2\\nSkipping line 336: expected 1 fields, saw 2\\nSkipping line 341: expected 1 fields, saw 3\\nSkipping line 367: expected 1 fields, saw 3\\nSkipping line 392: expected 1 fields, saw 2\\nSkipping line 416: expected 1 fields, saw 3\\nSkipping line 421: expected 1 fields, saw 3\\nSkipping line 428: expected 1 fields, saw 3\\nSkipping line 432: expected 1 fields, saw 3\\nSkipping line 438: expected 1 fields, saw 3\\nSkipping line 443: expected 1 fields, saw 3\\nSkipping line 478: expected 1 fields, saw 2\\nSkipping line 481: expected 1 fields, saw 3\\nSkipping line 485: expected 1 fields, saw 3\\nSkipping line 496: expected 1 fields, saw 3\\nSkipping line 499: expected 1 fields, saw 3\\nSkipping line 502: expected 1 fields, saw 2\\nSkipping line 506: expected 1 fields, saw 3\\nSkipping line 510: expected 1 fields, saw 3\\nSkipping line 513: expected 1 fields, saw 3\\nSkipping line 538: expected 1 fields, saw 3\\nSkipping line 545: expected 1 fields, saw 3\\nSkipping line 546: expected 1 fields, saw 3\\nSkipping line 582: expected 1 fields, saw 3\\nSkipping line 585: expected 1 fields, saw 3\\nSkipping line 588: expected 1 fields, saw 3\\nSkipping line 599: expected 1 fields, saw 3\\nSkipping line 602: expected 1 fields, saw 2\\nSkipping line 604: expected 1 fields, saw 3\\nSkipping line 608: expected 1 fields, saw 3\\nSkipping line 640: expected 1 fields, saw 2\\nSkipping line 647: expected 1 fields, saw 3\\nSkipping line 661: expected 1 fields, saw 3\\nSkipping line 668: expected 1 fields, saw 3\\nSkipping line 704: expected 1 fields, saw 2\\nSkipping line 715: expected 1 fields, saw 3\\nSkipping line 724: expected 1 fields, saw 2\\nSkipping line 727: expected 1 fields, saw 2\\nSkipping line 740: expected 1 fields, saw 2\\nSkipping line 750: expected 1 fields, saw 3\\nSkipping line 753: expected 1 fields, saw 2\\nSkipping line 756: expected 1 fields, saw 3\\nSkipping line 759: expected 1 fields, saw 2\\nSkipping line 770: expected 1 fields, saw 3\\nSkipping line 787: expected 1 fields, saw 3\\nSkipping line 812: expected 1 fields, saw 3\\nSkipping line 815: expected 1 fields, saw 3\\nSkipping line 836: expected 1 fields, saw 3\\nSkipping line 837: expected 1 fields, saw 3\\nSkipping line 849: expected 1 fields, saw 3\\nSkipping line 853: expected 1 fields, saw 3\\nSkipping line 860: expected 1 fields, saw 2\\nSkipping line 861: expected 1 fields, saw 2\\nSkipping line 868: expected 1 fields, saw 3\\nSkipping line 890: expected 1 fields, saw 3\\nSkipping line 923: expected 1 fields, saw 2\\nSkipping line 930: expected 1 fields, saw 3\\nSkipping line 933: expected 1 fields, saw 3\\nSkipping line 939: expected 1 fields, saw 3\\nSkipping line 962: expected 1 fields, saw 3\\nSkipping line 963: expected 1 fields, saw 3\\nSkipping line 965: expected 1 fields, saw 3\\nSkipping line 968: expected 1 fields, saw 3\\nSkipping line 971: expected 1 fields, saw 2\\nSkipping line 990: expected 1 fields, saw 3\\nSkipping line 1013: expected 1 fields, saw 3\\nSkipping line 1018: expected 1 fields, saw 3\\nSkipping line 1020: expected 1 fields, saw 3\\n'\n"
     ]
    }
   ],
   "source": [
    "filenames = []\n",
    "for filename in os.listdir('Data/US'):\n",
    "    filenames.append(filename)\n",
    "    \n",
    "\n",
    "    \n",
    "r_INTL = re.compile('(.*)INTL(.*)')\n",
    "r_US_1 = re.compile('(.*)US_1(.*)')\n",
    "r_US_2 = re.compile('.*US_2.*')\n",
    "r_US_3 = re.compile('.*US_3.*')\n",
    "r_US_4 = re.compile('.*US_4.*')\n",
    "\n",
    "\n",
    "\n",
    "us_1 = filter(r_US_1.match, filenames)\n",
    "us_2 = filter(r_US_2.match, filenames)\n",
    "us_3 = filter(r_US_3.match, filenames)\n",
    "us_4 = filter(r_US_4.match, filenames)\n",
    "INTL = filter(r_INTL.match, filenames)\n",
    "\n",
    "path = 'Data/US/'\n",
    "\n",
    "us_1_path = path + str(list(us_1)[0])\n",
    "\n",
    "#for file in us_files:\n",
    "#    an = open(filename,'r')\n",
    "#    filename = filename.read()\n",
    "    \n",
    "US_1_file = pd.read_csv(us_1_path, encoding='utf-16le', error_bad_lines=False)\n",
    "#US_1_content = US_1_file.read()\n",
    "print(US_1_file)"
   ]
  },
  {
   "cell_type": "code",
   "execution_count": null,
   "metadata": {
    "collapsed": true
   },
   "outputs": [],
   "source": [
    "r_us = re.compile(r'*US')"
   ]
  }
 ],
 "metadata": {
  "kernelspec": {
   "display_name": "Python 3",
   "language": "python",
   "name": "python3"
  },
  "language_info": {
   "codemirror_mode": {
    "name": "ipython",
    "version": 3
   },
   "file_extension": ".py",
   "mimetype": "text/x-python",
   "name": "python",
   "nbconvert_exporter": "python",
   "pygments_lexer": "ipython3",
   "version": "3.5.1"
  }
 },
 "nbformat": 4,
 "nbformat_minor": 0
}
