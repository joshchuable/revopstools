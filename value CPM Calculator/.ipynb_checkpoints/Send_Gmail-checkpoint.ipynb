{
 "cells": [
  {
   "cell_type": "code",
   "execution_count": 19,
   "metadata": {
    "collapsed": true
   },
   "outputs": [],
   "source": [
    "#!/usr/bin/env python\n",
    "from email.mime.text import MIMEText\n",
    "from email.mime.application import MIMEApplication\n",
    "from email.mime.multipart import MIMEMultipart\n",
    "from smtplib import SMTP\n",
    "import smtplib\n",
    "import sys\n",
    "import datetime"
   ]
  },
  {
   "cell_type": "code",
   "execution_count": 20,
   "metadata": {
    "collapsed": false
   },
   "outputs": [],
   "source": [
    "# Get today's date formatted YYYY-MM-DD.\n",
    "today = datetime.datetime.strftime(datetime.datetime.now(),'%Y-%m-%d')"
   ]
  },
  {
   "cell_type": "code",
   "execution_count": 29,
   "metadata": {
    "collapsed": false
   },
   "outputs": [],
   "source": [
    "#!/usr/bin/env python\n",
    "# encoding: utf-8\n",
    "import os\n",
    "import smtplib\n",
    "from email import encoders\n",
    "from email.mime.base import MIMEBase\n",
    "from email.mime.multipart import MIMEMultipart\n",
    "import datetime\n",
    "import sys\n",
    "\n",
    "# Get today's date formatted YYYY-MM-DD.\n",
    "today = datetime.datetime.strftime(datetime.datetime.now(),'%Y-%m-%d')\n",
    "\n",
    "COMMASPACE = ', '\n",
    "\n",
    "def send_gmail(attachments):\n",
    "    sender = 'rye.jones@answers.com'\n",
    "    gmail_password = 'PASSWORD'\n",
    "    recipients = ['rvoa@answers.com', 'rye.jones@answers.com']\n",
    "    \n",
    "    # Create the enclosing (outer) message\n",
    "    outer = MIMEMultipart()\n",
    "    outer['Subject'] = 'Rubicon Daily Update - %s' % today\n",
    "    outer['To'] = COMMASPACE.join(recipients)\n",
    "    outer['From'] = sender\n",
    "    outer.preamble = 'Begin email.\\n'\n",
    "\n",
    "    # Add the attachments to the message\n",
    "    for file in attachments:\n",
    "        try:\n",
    "            with open(file, 'rb') as fp:\n",
    "                msg = MIMEBase('application', \"octet-stream\")\n",
    "                msg.set_payload(fp.read())\n",
    "            encoders.encode_base64(msg)\n",
    "            msg.add_header('Content-Disposition', 'attachment', filename=os.path.basename(file))\n",
    "            outer.attach(msg)\n",
    "        except:\n",
    "            print(\"Unable to open one of the attachments.\")\n",
    "            raise\n",
    "\n",
    "    composed = outer.as_string()\n",
    "\n",
    "    # Send the email\n",
    "    try:\n",
    "        with smtplib.SMTP('smtp.gmail.com', 587) as s:\n",
    "            s.ehlo()\n",
    "            s.starttls()\n",
    "            s.ehlo()\n",
    "            s.login(sender, gmail_password)\n",
    "            s.sendmail(sender, recipients, composed)\n",
    "            s.close()\n",
    "        print(\"Email sent!\")\n",
    "    except:\n",
    "        print(\"Unable to send the email.\")\n",
    "        raise"
   ]
  },
  {
   "cell_type": "code",
   "execution_count": null,
   "metadata": {
    "collapsed": true
   },
   "outputs": [],
   "source": []
  }
 ],
 "metadata": {
  "kernelspec": {
   "display_name": "Python 3",
   "language": "python",
   "name": "python3"
  },
  "language_info": {
   "codemirror_mode": {
    "name": "ipython",
    "version": 3
   },
   "file_extension": ".py",
   "mimetype": "text/x-python",
   "name": "python",
   "nbconvert_exporter": "python",
   "pygments_lexer": "ipython3",
   "version": "3.5.1"
  }
 },
 "nbformat": 4,
 "nbformat_minor": 0
}
