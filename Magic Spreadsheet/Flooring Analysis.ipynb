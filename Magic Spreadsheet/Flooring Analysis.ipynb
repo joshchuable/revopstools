{
 "cells": [
  {
   "cell_type": "code",
   "execution_count": 2,
   "metadata": {
    "collapsed": true
   },
   "outputs": [],
   "source": [
    "import csv\n",
    "import pandas as pd\n",
    "import numpy as np"
   ]
  },
  {
   "cell_type": "code",
   "execution_count": 3,
   "metadata": {
    "collapsed": false
   },
   "outputs": [
    {
     "data": {
      "text/html": [
       "<div>\n",
       "<table border=\"1\" class=\"dataframe\">\n",
       "  <thead>\n",
       "    <tr style=\"text-align: right;\">\n",
       "      <th></th>\n",
       "      <th>Tags</th>\n",
       "      <th>Bid ranges (gross)</th>\n",
       "      <th>Bids</th>\n",
       "      <th>Impressions won</th>\n",
       "      <th>Winning bid CPM (gross)</th>\n",
       "      <th>Close CPM</th>\n",
       "      <th>Win %</th>\n",
       "    </tr>\n",
       "  </thead>\n",
       "  <tbody>\n",
       "    <tr>\n",
       "      <th>0</th>\n",
       "      <td>(No tag)</td>\n",
       "      <td>0.2 - 0.3</td>\n",
       "      <td>2</td>\n",
       "      <td>0</td>\n",
       "      <td>0.00</td>\n",
       "      <td>0.00</td>\n",
       "      <td>0%</td>\n",
       "    </tr>\n",
       "    <tr>\n",
       "      <th>1</th>\n",
       "      <td>(No tag)</td>\n",
       "      <td>0 - 0.1</td>\n",
       "      <td>33</td>\n",
       "      <td>1</td>\n",
       "      <td>0.05</td>\n",
       "      <td>0.04</td>\n",
       "      <td>3.03%</td>\n",
       "    </tr>\n",
       "    <tr>\n",
       "      <th>2</th>\n",
       "      <td>(No tag)</td>\n",
       "      <td>0.1 - 0.2</td>\n",
       "      <td>4</td>\n",
       "      <td>1</td>\n",
       "      <td>0.12</td>\n",
       "      <td>0.06</td>\n",
       "      <td>25%</td>\n",
       "    </tr>\n",
       "    <tr>\n",
       "      <th>3</th>\n",
       "      <td>(No tag)</td>\n",
       "      <td>0.3 - 0.4</td>\n",
       "      <td>5</td>\n",
       "      <td>3</td>\n",
       "      <td>0.34</td>\n",
       "      <td>0.20</td>\n",
       "      <td>60%</td>\n",
       "    </tr>\n",
       "    <tr>\n",
       "      <th>4</th>\n",
       "      <td>300x250_d_image_only_atf</td>\n",
       "      <td>29.5 - 29.6</td>\n",
       "      <td>1</td>\n",
       "      <td>1</td>\n",
       "      <td>29.54</td>\n",
       "      <td>0.35</td>\n",
       "      <td>100%</td>\n",
       "    </tr>\n",
       "  </tbody>\n",
       "</table>\n",
       "</div>"
      ],
      "text/plain": [
       "                       Tags Bid ranges (gross)  Bids  Impressions won  \\\n",
       "0                  (No tag)          0.2 - 0.3     2                0   \n",
       "1                  (No tag)            0 - 0.1    33                1   \n",
       "2                  (No tag)          0.1 - 0.2     4                1   \n",
       "3                  (No tag)          0.3 - 0.4     5                3   \n",
       "4  300x250_d_image_only_atf        29.5 - 29.6     1                1   \n",
       "\n",
       "   Winning bid CPM (gross)  Close CPM  Win %  \n",
       "0                     0.00       0.00     0%  \n",
       "1                     0.05       0.04  3.03%  \n",
       "2                     0.12       0.06    25%  \n",
       "3                     0.34       0.20    60%  \n",
       "4                    29.54       0.35   100%  "
      ]
     },
     "execution_count": 3,
     "metadata": {},
     "output_type": "execute_result"
    }
   ],
   "source": [
    "bids = pd.read_csv(\"BidData20160106.csv\")\n",
    "bids.head()"
   ]
  },
  {
   "cell_type": "code",
   "execution_count": 4,
   "metadata": {
    "collapsed": false
   },
   "outputs": [],
   "source": [
    "tag_array = ['fb_chr_tags','fb_intl_tags','fb_us_tags']\n",
    "\n",
    "fb_us_tags = ['gut_933_1','gut_933_2','gut_933_3','gut_933_4']\n",
    "fb_intl_tags = ['gut_778_1','gut_778_2','gut_778_3','gut_778_4']\n",
    "fb_chr_tags = ['gut_742_1','gut_742_2','gut_742_3','gut_742_4']\n",
    "\n",
    "floors = np.arange(0.00, 6.00, 0.05).tolist()\n"
   ]
  },
  {
   "cell_type": "code",
   "execution_count": 5,
   "metadata": {
    "collapsed": false
   },
   "outputs": [],
   "source": [
    "tags = bids['Tags']\n",
    "    \n",
    "filtered_us = tags.isin(fb_us_tags)\n",
    "filtered_us_chr = tags.isin(fb_chr_tags)\n",
    "filtered_intl = tags.isin(fb_intl_tags)\n",
    "\n",
    "us_bids = bids[filtered_us]\n",
    "\n",
    "chr_bids = bids[filtered_us_chr]\n",
    "intl_bids = bids[filtered_intl]\n",
    "buckets = ['us_bids','chr_bids','intl_bids']"
   ]
  },
  {
   "cell_type": "code",
   "execution_count": 6,
   "metadata": {
    "collapsed": false
   },
   "outputs": [],
   "source": [
    "def originalRev(x):\n",
    "   return x['Close CPM']*(x['Impressions won']/1000)\n",
    "\n",
    "                \n",
    "def calculateRev(impressionsWon, winCPM, closeCPM, floor):\n",
    "    if floor < closeCPM and floor < winCPM:\n",
    "        revenue = winCPM*(impressionsWon/1000)\n",
    "        return revenue\n",
    "    elif winCPM < floor:\n",
    "        revenue = 0.0\n",
    "    elif closeCPM < floor and floor < winCPM:\n",
    "        revenue = (floor + 0.01)*(impressionsWon/1000)\n",
    "    else:\n",
    "        revenue = 0.0\n",
    "    return revenue\n",
    "\n",
    "'''This function uses calculateRev and originalRev to calculate revenues at hypothetical floors at each bid range.'''\n",
    "def revColumn(floors,bidData):\n",
    "    revenue_at_floor = {'originalRevenue':[]}\n",
    "    revenue_at_floor['originalRevenue'] = originalRev(bidData).tolist()\n",
    "    for floor in floors:\n",
    "        revenue_at_floor[floor] = []\n",
    "        for index, row in bidData.iterrows():\n",
    "            rev = calculateRev(row['Impressions won'],row['Winning bid CPM (gross)'], row['Close CPM'], floor)\n",
    "            revenue_at_floor[floor].append(rev)\n",
    "    rev_by_bid_range = pd.DataFrame(revenue_at_floor)\n",
    "    tags = bidData['Tags'].reset_index()['Tags']\n",
    "    rev_by_bid_range = rev_by_bid_range.join(tags)\n",
    "    headers = list(rev_by_bid_range.columns.values)\n",
    "    headers.insert(0, headers.pop())\n",
    "    return rev_by_bid_range[headers]\n",
    "\n",
    "def flooringRecommendations(revenue_df):\n",
    "    return revenue_df.groupby('Tags')\n",
    "                                \n",
    "floors = np.arange(0.00, 6.00, 0.05).tolist()"
   ]
  },
  {
   "cell_type": "code",
   "execution_count": 28,
   "metadata": {
    "collapsed": false
   },
   "outputs": [],
   "source": [
    "a = revColumn(floors,us_bids)\n"
   ]
  },
  {
   "cell_type": "code",
   "execution_count": 51,
   "metadata": {
    "collapsed": false
   },
   "outputs": [
    {
     "name": "stdout",
     "output_type": "stream",
     "text": [
      "                0.0      0.05       0.1      0.15       0.2      0.25  \\\n",
      "Tags                                                                    \n",
      "gut_933_1  0.007465  0.007465  0.007465  0.007465  0.007465  0.007465   \n",
      "gut_933_2  0.000000  0.000000  0.000000  0.000000  0.000000  0.000000   \n",
      "gut_933_3  0.000000  0.000000  0.000000  0.000000  0.000000  0.000000   \n",
      "gut_933_4  0.000000  0.000000  0.000000  0.000000  0.000000  0.000000   \n",
      "\n",
      "                0.3     0.35       0.4      0.45       ...         5.55  5.6  \\\n",
      "Tags                                                   ...                     \n",
      "gut_933_1  0.007465  0.00507  0.005775  0.006479       ...            0    0   \n",
      "gut_933_2  0.000000  0.00000  0.000000  0.000000       ...            0    0   \n",
      "gut_933_3  0.000000  0.00000  0.000000  0.000000       ...            0    0   \n",
      "gut_933_4  0.000000  0.00000  0.000000  0.000000       ...            0    0   \n",
      "\n",
      "           5.65  5.7  5.75  5.8  5.85  5.9  5.95  originalRevenue  \n",
      "Tags                                                               \n",
      "gut_933_1     0    0     0    0     0    0     0         0.023403  \n",
      "gut_933_2     0    0     0    0     0    0     0         0.012425  \n",
      "gut_933_3     0    0     0    0     0    0     0         0.015964  \n",
      "gut_933_4     0    0     0    0     0    0     0         0.014384  \n",
      "\n",
      "[4 rows x 121 columns]\n"
     ]
    }
   ],
   "source": [
    "b = pd.pivot_table(a,index=[\"Tags\"])\n",
    "print b"
   ]
  },
  {
   "cell_type": "code",
   "execution_count": 45,
   "metadata": {
    "collapsed": false
   },
   "outputs": [
    {
     "data": {
      "text/plain": [
       "3"
      ]
     },
     "execution_count": 45,
     "metadata": {},
     "output_type": "execute_result"
    }
   ],
   "source": [
    "c = {\"q\":[1,2,3]}\n",
    "max(c[\"q\"])"
   ]
  },
  {
   "cell_type": "code",
   "execution_count": 45,
   "metadata": {
    "collapsed": false
   },
   "outputs": [
    {
     "name": "stdout",
     "output_type": "stream",
     "text": [
      "[1]\n",
      "[1, 2]\n"
     ]
    }
   ],
   "source": []
  },
  {
   "cell_type": "code",
   "execution_count": null,
   "metadata": {
    "collapsed": true
   },
   "outputs": [],
   "source": []
  }
 ],
 "metadata": {
  "kernelspec": {
   "display_name": "Python 2",
   "language": "python",
   "name": "python2"
  },
  "language_info": {
   "codemirror_mode": {
    "name": "ipython",
    "version": 2
   },
   "file_extension": ".py",
   "mimetype": "text/x-python",
   "name": "python",
   "nbconvert_exporter": "python",
   "pygments_lexer": "ipython2",
   "version": "2.7.11"
  }
 },
 "nbformat": 4,
 "nbformat_minor": 0
}
