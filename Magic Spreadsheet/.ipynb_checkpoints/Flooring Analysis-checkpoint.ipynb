{
 "cells": [
  {
   "cell_type": "code",
   "execution_count": 6,
   "metadata": {
    "collapsed": true
   },
   "outputs": [],
   "source": [
    "import csv\n",
    "import pandas as pd\n",
    "import numpy as np"
   ]
  },
  {
   "cell_type": "code",
   "execution_count": 38,
   "metadata": {
    "collapsed": false
   },
   "outputs": [
    {
     "data": {
      "text/html": [
       "<div>\n",
       "<table border=\"1\" class=\"dataframe\">\n",
       "  <thead>\n",
       "    <tr style=\"text-align: right;\">\n",
       "      <th></th>\n",
       "      <th>Tags</th>\n",
       "      <th>Bid ranges (gross)</th>\n",
       "      <th>Bids</th>\n",
       "      <th>Impressions won</th>\n",
       "      <th>Winning bid CPM (gross)</th>\n",
       "      <th>Close CPM</th>\n",
       "      <th>Win %</th>\n",
       "    </tr>\n",
       "  </thead>\n",
       "  <tbody>\n",
       "    <tr>\n",
       "      <th>0</th>\n",
       "      <td>gut_742_1</td>\n",
       "      <td>26.4 - 26.5</td>\n",
       "      <td>1</td>\n",
       "      <td>1</td>\n",
       "      <td>26.400000</td>\n",
       "      <td>1.304000</td>\n",
       "      <td>100%</td>\n",
       "    </tr>\n",
       "    <tr>\n",
       "      <th>1</th>\n",
       "      <td>gut_742_1</td>\n",
       "      <td>12.1 - 12.2</td>\n",
       "      <td>1</td>\n",
       "      <td>0</td>\n",
       "      <td>0.000000</td>\n",
       "      <td>0.000000</td>\n",
       "      <td>0.00%</td>\n",
       "    </tr>\n",
       "    <tr>\n",
       "      <th>2</th>\n",
       "      <td>gut_742_1</td>\n",
       "      <td>1.6 - 1.7</td>\n",
       "      <td>288</td>\n",
       "      <td>216</td>\n",
       "      <td>1.658481</td>\n",
       "      <td>0.541222</td>\n",
       "      <td>75%</td>\n",
       "    </tr>\n",
       "    <tr>\n",
       "      <th>3</th>\n",
       "      <td>gut_742_1</td>\n",
       "      <td>15 - 15.1</td>\n",
       "      <td>2</td>\n",
       "      <td>1</td>\n",
       "      <td>15.074000</td>\n",
       "      <td>0.920000</td>\n",
       "      <td>50%</td>\n",
       "    </tr>\n",
       "    <tr>\n",
       "      <th>4</th>\n",
       "      <td>gut_742_1</td>\n",
       "      <td>1.7 - 1.8</td>\n",
       "      <td>796</td>\n",
       "      <td>607</td>\n",
       "      <td>1.751608</td>\n",
       "      <td>0.542787</td>\n",
       "      <td>76%</td>\n",
       "    </tr>\n",
       "  </tbody>\n",
       "</table>\n",
       "</div>"
      ],
      "text/plain": [
       "        Tags Bid ranges (gross)  Bids  Impressions won  \\\n",
       "0  gut_742_1        26.4 - 26.5     1                1   \n",
       "1  gut_742_1        12.1 - 12.2     1                0   \n",
       "2  gut_742_1          1.6 - 1.7   288              216   \n",
       "3  gut_742_1          15 - 15.1     2                1   \n",
       "4  gut_742_1          1.7 - 1.8   796              607   \n",
       "\n",
       "   Winning bid CPM (gross)  Close CPM  Win %  \n",
       "0                26.400000   1.304000   100%  \n",
       "1                 0.000000   0.000000  0.00%  \n",
       "2                 1.658481   0.541222    75%  \n",
       "3                15.074000   0.920000    50%  \n",
       "4                 1.751608   0.542787    76%  "
      ]
     },
     "execution_count": 38,
     "metadata": {},
     "output_type": "execute_result"
    }
   ],
   "source": [
    "bids = pd.read_csv(\"BidData20160216.csv\")\n",
    "bids.head()"
   ]
  },
  {
   "cell_type": "code",
   "execution_count": 37,
   "metadata": {
    "collapsed": false
   },
   "outputs": [],
   "source": [
    "#Set tags\n",
    "tag_array = ['fb_chr_tags','fb_intl_tags','fb_us_tags']\n",
    "\n",
    "fb_us_tags = ['gut_933_1','gut_933_2','gut_933_3','gut_933_4']\n",
    "fb_intl_tags = ['gut_778_1','gut_778_2','gut_778_3','gut_778_4']\n",
    "fb_chr_tags = ['gut_742_1','gut_742_2','gut_742_3','gut_742_4']\n",
    "\n",
    "floors = np.arange(0.00, 6.00, 0.05).tolist()"
   ]
  },
  {
   "cell_type": "code",
   "execution_count": 34,
   "metadata": {
    "collapsed": false
   },
   "outputs": [],
   "source": [
    "tags = bids['Tags']\n",
    "    \n",
    "filtered_us = tags.isin(fb_us_tags)\n",
    "filtered_us_chr = tags.isin(fb_chr_tags)\n",
    "filtered_intl = tags.isin(fb_intl_tags)\n",
    "\n",
    "us_bids = bids[filtered_us]\n",
    "\n",
    "chr_bids = bids[filtered_us_chr]\n",
    "intl_bids = bids[filtered_intl]\n",
    "buckets = ['us_bids','chr_bids','intl_bids']"
   ]
  },
  {
   "cell_type": "code",
   "execution_count": 42,
   "metadata": {
    "collapsed": false
   },
   "outputs": [],
   "source": [
    "def originalRev(x):\n",
    "   return x['Close CPM']*(x['Impressions won']/1000)\n",
    "\n",
    "                \n",
    "def calculateRev(impressionsWon, winCPM, closeCPM, floor, rr):\n",
    "    if floor < closeCPM and floor < winCPM:\n",
    "        revenue = winCPM*(impressionsWon/1000)\n",
    "        return revenue\n",
    "    elif winCPM < floor:\n",
    "        revenue = closeCPM*(impressionsWon/1000)*rr\n",
    "    elif closeCPM < floor and floor < winCPM:\n",
    "        revenue = (floor + 0.01)*(impressionsWon/1000)\n",
    "    else:\n",
    "        revenue = 0.0\n",
    "    return revenue\n",
    "\n",
    "'''This function uses calculateRev and originalRev to calculate revenues at hypothetical floors at each bid range.'''\n",
    "def revColumn(floors,bidData,rr):\n",
    "    revenue_at_floor = {'originalRevenue':[]}\n",
    "    revenue_at_floor['originalRevenue'] = originalRev(bidData).tolist()\n",
    "    for floor in floors:\n",
    "        revenue_at_floor[floor] = []\n",
    "        for index, row in bidData.iterrows():\n",
    "            rev = calculateRev(row['Impressions won'],row['Winning bid CPM (gross)'], row['Close CPM'], floor,rr)\n",
    "            revenue_at_floor[floor].append(rev)\n",
    "    rev_by_bid_range = pd.DataFrame(revenue_at_floor)\n",
    "    tags = bidData['Tags'].reset_index()['Tags']\n",
    "    rev_by_bid_range = rev_by_bid_range.join(tags)\n",
    "    headers = list(rev_by_bid_range.columns.values)\n",
    "    headers.insert(0, headers.pop())\n",
    "    return rev_by_bid_range[headers]\n",
    "\n",
    "def flooringRecommendations(revenue_df):\n",
    "    return revenue_df.groupby('Tags')\n",
    "                                \n",
    "floors = np.arange(0.00, 6.00, 0.05).tolist()"
   ]
  },
  {
   "cell_type": "code",
   "execution_count": 43,
   "metadata": {
    "collapsed": false
   },
   "outputs": [],
   "source": [
    "a = revColumn(floors,bids,0.1)\n"
   ]
  },
  {
   "cell_type": "code",
   "execution_count": 45,
   "metadata": {
    "collapsed": false
   },
   "outputs": [
    {
     "name": "stdout",
     "output_type": "stream",
     "text": [
      "                 0.0       0.05        0.1      0.15       0.2      0.25  \\\n",
      "Tags                                                                       \n",
      "gut_742_1   8.055355   8.055355   8.055355  8.047190  7.556853  4.065461   \n",
      "gut_742_2   1.561413   1.561413   1.561413  1.561413  1.561413  1.561413   \n",
      "gut_742_3  10.407461  10.407461  10.407461  9.980590  9.044706  5.747452   \n",
      "gut_742_4  10.218820  10.218820  10.218820  9.811717  9.025831  5.167345   \n",
      "\n",
      "                0.3      0.35       0.4      0.45       ...             5.55  \\\n",
      "Tags                                                    ...                    \n",
      "gut_742_1  4.815461  5.565461  1.274589  0.935367       ...         0.497582   \n",
      "gut_742_2  1.561413  1.561413  1.561413  1.561413       ...         0.108470   \n",
      "gut_742_3  5.051772  5.701772  4.252085  3.870381       ...         0.392341   \n",
      "gut_742_4  5.037819  5.687819  4.761875  3.856109       ...         0.376238   \n",
      "\n",
      "                5.6      5.65       5.7      5.75       5.8      5.85  \\\n",
      "Tags                                                                    \n",
      "gut_742_1  0.497582  0.497582  0.497582  0.497582  0.497582  0.497582   \n",
      "gut_742_2  0.108470  0.108470  0.108470  0.108470  0.108470  0.108470   \n",
      "gut_742_3  0.392341  0.392341  0.392341  0.392341  0.392341  0.392341   \n",
      "gut_742_4  0.376238  0.376238  0.376238  0.376238  0.376238  0.376238   \n",
      "\n",
      "                5.9      5.95  originalRevenue  \n",
      "Tags                                            \n",
      "gut_742_1  0.497582  0.497582        12.643333  \n",
      "gut_742_2  0.108470  0.108470         6.538896  \n",
      "gut_742_3  0.392341  0.392341         8.140341  \n",
      "gut_742_4  0.376238  0.376238         7.726550  \n",
      "\n",
      "[4 rows x 121 columns]\n"
     ]
    }
   ],
   "source": [
    "b = pd.pivot_table(a,index=[\"Tags\"],aggfunc=np.sum)\n",
    "print b"
   ]
  },
  {
   "cell_type": "code",
   "execution_count": 45,
   "metadata": {
    "collapsed": false
   },
   "outputs": [
    {
     "data": {
      "text/plain": [
       "3"
      ]
     },
     "execution_count": 45,
     "metadata": {},
     "output_type": "execute_result"
    }
   ],
   "source": [
    "c = {\"q\":[1,2,3]}\n",
    "max(c[\"q\"])"
   ]
  },
  {
   "cell_type": "code",
   "execution_count": 45,
   "metadata": {
    "collapsed": false
   },
   "outputs": [
    {
     "name": "stdout",
     "output_type": "stream",
     "text": [
      "[1]\n",
      "[1, 2]\n"
     ]
    }
   ],
   "source": []
  },
  {
   "cell_type": "code",
   "execution_count": null,
   "metadata": {
    "collapsed": true
   },
   "outputs": [],
   "source": []
  }
 ],
 "metadata": {
  "kernelspec": {
   "display_name": "Python 2",
   "language": "python",
   "name": "python2"
  },
  "language_info": {
   "codemirror_mode": {
    "name": "ipython",
    "version": 2
   },
   "file_extension": ".py",
   "mimetype": "text/x-python",
   "name": "python",
   "nbconvert_exporter": "python",
   "pygments_lexer": "ipython2",
   "version": "2.7.11"
  }
 },
 "nbformat": 4,
 "nbformat_minor": 0
}
